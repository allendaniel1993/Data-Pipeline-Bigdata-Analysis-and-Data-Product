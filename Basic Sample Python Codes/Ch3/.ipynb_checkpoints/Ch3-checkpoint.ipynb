{
 "cells": [
  {
   "cell_type": "markdown",
   "metadata": {
    "scrolled": true
   },
   "source": [
    "#### Allen Daniel Yesa"
   ]
  },
  {
   "cell_type": "markdown",
   "metadata": {},
   "source": [
    "#### Aditya Subramanian Muralidaran"
   ]
  },
  {
   "cell_type": "code",
   "execution_count": 1,
   "metadata": {},
   "outputs": [
    {
     "name": "stdout",
     "output_type": "stream",
     "text": [
      "Hello World !\n"
     ]
    }
   ],
   "source": [
    "print (\"Hello World !\")"
   ]
  },
  {
   "cell_type": "code",
   "execution_count": 2,
   "metadata": {},
   "outputs": [
    {
     "name": "stdout",
     "output_type": "stream",
     "text": [
      "2\n",
      "5\n",
      "2.0\n"
     ]
    }
   ],
   "source": [
    "#Atomic Data Types\n",
    "my_integer = 2\n",
    "my_other_integer = 2 + 3\n",
    "my_float = 2.0\n",
    "print (my_integer)\n",
    "print (my_other_integer)\n",
    "print (my_float)"
   ]
  },
  {
   "cell_type": "code",
   "execution_count": 3,
   "metadata": {},
   "outputs": [
    {
     "name": "stdout",
     "output_type": "stream",
     "text": [
      "True\n",
      "False\n",
      "True\n",
      "False\n"
     ]
    }
   ],
   "source": [
    "#Boolean\n",
    "my_true_bool = True\n",
    "my_false_bool = False\n",
    "this_is_true = (0 < 100)\n",
    "this_is_false = (0 > 100)\n",
    "\n",
    "print (my_true_bool)\n",
    "print (my_false_bool)\n",
    "print (this_is_true)\n",
    "print (this_is_false)"
   ]
  },
  {
   "cell_type": "code",
   "execution_count": 4,
   "metadata": {},
   "outputs": [
    {
     "name": "stdout",
     "output_type": "stream",
     "text": [
      "hello\n",
      "hello\n",
      "\n",
      "hello's\n"
     ]
    }
   ],
   "source": [
    "#Strings\n",
    "a_string = \"hello\"\n",
    "same_as_previous = 'hello'\n",
    "an_empty_string = \"\"\n",
    "w_a_single_quote = \"hello's\"\n",
    "\n",
    "print (a_string)\n",
    "print (same_as_previous)\n",
    "print (an_empty_string)\n",
    "print (w_a_single_quote)"
   ]
  },
  {
   "cell_type": "code",
   "execution_count": 5,
   "metadata": {},
   "outputs": [
    {
     "name": "stdout",
     "output_type": "stream",
     "text": [
      "line 1\n",
      "line 2\n",
      "A\n",
      "AB\n",
      "BC\n",
      "BCD\n",
      "ABC\n"
     ]
    }
   ],
   "source": [
    "#Multi line string\n",
    "multi_line_string = \"\"\"line 1\n",
    "line 2\"\"\"\n",
    "print (multi_line_string)\n",
    "\n",
    "print (\"ABCD\"[0])\n",
    "print (\"ABCD\"[0:2])\n",
    "print (\"ABCD\"[1:3])\n",
    "print (\"ABCD\"[1:])\n",
    "print (\"ABCD\"[:-1])"
   ]
  },
  {
   "cell_type": "code",
   "execution_count": 6,
   "metadata": {},
   "outputs": [
    {
     "name": "stdout",
     "output_type": "stream",
     "text": [
      "5\n"
     ]
    }
   ],
   "source": [
    "#Comments and Docstrings\n",
    "\n",
    "# This whole line is a comment\n",
    "a = 5 # and the last part of this line is too\n",
    "\n",
    "print (a)"
   ]
  },
  {
   "cell_type": "code",
   "execution_count": 7,
   "metadata": {},
   "outputs": [
    {
     "name": "stdout",
     "output_type": "stream",
     "text": [
      "25\n"
     ]
    }
   ],
   "source": [
    "#function with Docstring\n",
    "def sqr(x):\n",
    "\t\"This function just squares its input \"\n",
    "\treturn x * x\n",
    "\n",
    "print (sqr(5))"
   ]
  },
  {
   "cell_type": "code",
   "execution_count": 8,
   "metadata": {},
   "outputs": [
    {
     "name": "stdout",
     "output_type": "stream",
     "text": [
      "a \n",
      "['A ', 5.7, 'B ', [1, 2, 3]]\n",
      "[1, 2, 3, 4, 5, 6, 7, 8]\n",
      "[1, 4, 9, 16, 25, 36, 49, 64]\n",
      "[4, 16, 36, 64]\n",
      "['a', 'b']\n",
      "['a', 'b']\n"
     ]
    }
   ],
   "source": [
    "#List Set and Tuples\n",
    "\n",
    "my_list = [\"a \", \"b \", \"c \"]\n",
    "my_set = set(my_list)\n",
    "my_tuple = tuple(my_list)\n",
    "\n",
    "print (my_list[0]) # prints \"a \"\n",
    "my_list[0] = \"A \" # changes that element of the list\n",
    "my_list.append(\"d \") # adds new element to the end\n",
    "# List elements can be ANYTHING\n",
    "mixed_list = [\"A \", 5.7, \"B \", [1,2,3]]\n",
    "print (mixed_list)\n",
    "\n",
    "original_list = [1,2,3,4,5,6,7,8]\n",
    "squares = [x*x for x in original_list]\n",
    "squares_of_evens = [x*x for x in original_list if x%2==0]\n",
    "\n",
    "print (original_list)\n",
    "print (squares)\n",
    "print (squares_of_evens)\n",
    "\n",
    "my_list = [\"a\", \"b\", \"c\"]\n",
    "first_two_elements = my_list[0:2]\n",
    "\n",
    "print (first_two_elements)\n",
    "\n",
    "my_list = [\"a\", \"b\", \"c\"]\n",
    "all_but_last_element = my_list[:-1]\n",
    "\n",
    "print (all_but_last_element)"
   ]
  },
  {
   "cell_type": "code",
   "execution_count": 9,
   "metadata": {},
   "outputs": [
    {
     "name": "stdout",
     "output_type": "stream",
     "text": [
      "['ABC', 'DEF']\n",
      "['ABC', 'DEF']\n",
      "['ABC', '\\tDEF']\n",
      "['', 'C', 'D']\n",
      "A,B,C\n",
      "BDF\n",
      "1\n",
      "1\n",
      "2\n"
     ]
    }
   ],
   "source": [
    "#Strings and List\n",
    "\n",
    "print (\"ABC DEF\".split())\n",
    "print (\"ABC \\tDEF\".split())\n",
    "print (\"ABC \\tDEF\".split(' '))\n",
    "print (\"ABCABD\".split(\"AB\"))\n",
    "\n",
    "print (\",\".join([\"A\", \"B\", \"C\"]))\n",
    "\n",
    "#slice\n",
    "start, end, count_by = 1, 7, 2\n",
    "print (\"ABCDEFG\"[start: end: count_by])\n",
    "\n",
    "#Tuples\n",
    "\n",
    "my_tuple = (1, 2, \"hello world\")\n",
    "print (my_tuple[0]) # prints 1\n",
    "#my_tuple[1] = 5 # This will give an error!\n",
    "\n",
    "my_tuple = (1, 2)\n",
    "zeroth_field, first_field = my_tuple\n",
    "\n",
    "print (zeroth_field)\n",
    "print (first_field)"
   ]
  },
  {
   "cell_type": "code",
   "execution_count": 10,
   "metadata": {},
   "outputs": [
    {
     "name": "stdout",
     "output_type": "stream",
     "text": [
      "1\n",
      "{'January': 'Start of the year', 'February': 2, 'March': 3}\n",
      "[('one', 1), ('two', 2)]\n",
      "{'one': 1, 'two': 2}\n",
      "dict_items([('one', 1), ('two', 2)])\n"
     ]
    }
   ],
   "source": [
    "# Dictionaries\n",
    "\n",
    "my_dict = {\"January\": 1, \"February\":2}\n",
    "print (my_dict[\"January\"]) # prints 1\n",
    "my_dict[\"March\"] = 3 # add new element\n",
    "my_dict[\"January\"] = \"Start of the year\" # overwrite old value\n",
    "print (my_dict)\n",
    "\n",
    "# conversion between pair tuple and dict\n",
    "pairs = [(\"one\",1), (\"two\",2)]\n",
    "as_dict = dict(pairs)\n",
    "same_as_pairs = as_dict.items()\n",
    "\n",
    "print (pairs)\n",
    "print (as_dict)\n",
    "print (same_as_pairs)"
   ]
  },
  {
   "cell_type": "code",
   "execution_count": 11,
   "metadata": {},
   "outputs": [
    {
     "name": "stdout",
     "output_type": "stream",
     "text": [
      "False\n",
      "True\n",
      "{5}\n",
      "25\n",
      "4\n",
      "8\n"
     ]
    }
   ],
   "source": [
    "#Sets\n",
    "\n",
    "s = set()\n",
    "print (5 in s)\n",
    "s.add(5)\n",
    "print (5 in s)\n",
    "s.add(5) #does nothing\n",
    "print (s)\n",
    "\n",
    "def my_function(x):\n",
    "\ty = x+1\n",
    "\tx_sqrd = x*x\n",
    "\treturn x_sqrd\n",
    "five_plus_one_sqrd = my_function(5)\n",
    "\n",
    "print (five_plus_one_sqrd)\n",
    "\n",
    "def raises(x, n=2):\n",
    "\treturn pow(x,n)\n",
    "\n",
    "two_sqrd = raises(2)\n",
    "two_cubed = raises(2, n=3)\n",
    "\n",
    "print (two_sqrd)\n",
    "print (two_cubed) "
   ]
  },
  {
   "cell_type": "code",
   "execution_count": 12,
   "metadata": {},
   "outputs": [
    {
     "name": "stdout",
     "output_type": "stream",
     "text": [
      "25\n",
      "[4, 16]\n"
     ]
    }
   ],
   "source": [
    "#function with lambda\n",
    "sqr = lambda x : x*x\n",
    "five_sqrd = sqr(5)\n",
    "print (five_sqrd)\n",
    "\n",
    "def apply_to_evens(a_list, a_func):\n",
    "\treturn [a_func(x) for x in a_list if x%2==0]\n",
    "my_list = [1,2,3,4,5]\n",
    "sqrs_of_evens = apply_to_evens(my_list, lambda x:x*x)\n",
    "\n",
    "print (sqrs_of_evens)"
   ]
  },
  {
   "cell_type": "code",
   "execution_count": 13,
   "metadata": {},
   "outputs": [
    {
     "name": "stdout",
     "output_type": "stream",
     "text": [
      "the number is  1\n",
      "the number is  2\n",
      "the number is  3\n",
      "the value for  January  is  Start of the year\n",
      "the value for  February  is  2\n",
      "the value for  March  is  3\n",
      "i is less than three\n",
      "i is still less than five\n",
      "i is still less than five\n",
      "i is still less than five\n",
      "i is still less than five\n",
      "i is still less than five\n"
     ]
    }
   ],
   "source": [
    "#For Loops and Control Structures\n",
    "\n",
    "my_list = [1, 2, 3]\n",
    "for x in my_list:\n",
    "\tprint (\"the number is \", x)\n",
    "\n",
    "for key, value in my_dict.items():\n",
    "\tprint (\"the value for \", key, \" is \", value)\n",
    "\n",
    "#if statement \n",
    "i=2;\n",
    "if i < 3:\n",
    "\tprint (\"i is less than three\")\n",
    "elif i < 5: print (\"i is between 3 and 5\")\n",
    "else: print (\"i is greater than 5\")\n",
    "\n",
    "i = 0\n",
    "while i < 5:\n",
    "\tprint (\"i is still less than five\")\n",
    "\ti = i+1"
   ]
  },
  {
   "cell_type": "code",
   "execution_count": 14,
   "metadata": {},
   "outputs": [
    {
     "name": "stdout",
     "output_type": "stream",
     "text": [
      "There were < 10 lines\n",
      "bark bark!!\n"
     ]
    }
   ],
   "source": [
    "#Exception Handling\n",
    "\n",
    "input_text = \"\"\"line 1\n",
    "line 2\n",
    "line 3\n",
    "line 4\n",
    "line 5\n",
    "line 6\n",
    "line 7\"\"\"\n",
    "\n",
    "try:\n",
    "\tlines = input_text.split(\"\\n\")\n",
    "\tprint (\"tenth line was: \", lines[9])\n",
    "except:\n",
    "\tprint (\"There were < 10 lines\")\n",
    "\n",
    "#Classes and Objects\n",
    "\n",
    "class Dog:\n",
    "\tdef __init__(self, name):\n",
    "\t\tself.name = name\n",
    "\tdef respond_to_command(self, command):\n",
    "\t\tif command == self.name: self.speak()\n",
    "\tdef speak(self):\n",
    "\t\tprint (\"bark bark!!\")\n",
    "fido = Dog(\"fido\")\n",
    "fido.respond_to_command(\"spot\") # does nothing\n",
    "fido.respond_to_command(\"fido\") # prints bark bark"
   ]
  },
  {
   "cell_type": "code",
   "execution_count": 15,
   "metadata": {},
   "outputs": [
    {
     "name": "stdout",
     "output_type": "stream",
     "text": [
      "5\n",
      "[5]\n",
      "bob\n"
     ]
    }
   ],
   "source": [
    "#Hashable and Unhashable types\n",
    "\n",
    "a = 5 # a is a hashable int\n",
    "b = a # b points to a COPY of a\n",
    "a = a + 1\n",
    "print (b)\n",
    "\n",
    "A = [] # A is an UNhashable list\n",
    "B = A # B points to the SAME list as A.\n",
    "A.append(5)\n",
    "print (B)\n",
    "\n",
    "A = [{}, {}] # list of dicts\n",
    "B = [x for x in A]\n",
    "A[0][\"name\"] = \"bob\"\n",
    "print (B[0][\"name\"])"
   ]
  },
  {
   "cell_type": "code",
   "execution_count": 16,
   "metadata": {},
   "outputs": [
    {
     "name": "stdout",
     "output_type": "stream",
     "text": [
      "Susan now lives in Washington\n",
      " and makes $105000.0\n",
      "Ellen now lives in Texas\n",
      " and makes $78750.0\n"
     ]
    }
   ],
   "source": [
    "SALARY_RAISE_FACTOR = 0.05\n",
    "STATE_CODE_MAP = {'WA': 'Washington', 'TX': 'Texas'}\n",
    "def update_employee_record(rec):\n",
    "\told_sal = rec['salary']\n",
    "\tnew_sal = old_sal * (1 + SALARY_RAISE_FACTOR)\n",
    "\trec['salary'] = new_sal\n",
    "\tstate_code = rec['state_code']\n",
    "\trec['state_name'] = STATE_CODE_MAP[state_code]\n",
    "input_data = [\n",
    "\t{'employee_name': 'Susan', 'salary': 100000.0,\n",
    "\t 'state_code': 'WA'},\n",
    "\t{'employee_name': 'Ellen', 'salary': 75000.0,\n",
    "\t 'state_code': 'TX'},\n",
    "]\n",
    "for rec in input_data:\n",
    "\tupdate_employee_record(rec)\n",
    "\tname = rec['employee_name']\n",
    "\tsalary = rec['salary']\n",
    "\tstate = rec['state_name']\n",
    "\tprint (name + ' now lives in ' + state)\n",
    "\tprint (' and makes $' + str(salary))"
   ]
  },
  {
   "cell_type": "code",
   "execution_count": 17,
   "metadata": {},
   "outputs": [
    {
     "name": "stdout",
     "output_type": "stream",
     "text": [
      "RangeIndex(start=0, stop=3, step=1)\n",
      "Index(['Bob', 'Alex', 'Jane'], dtype='object', name='name')\n",
      "60\n"
     ]
    },
    {
     "name": "stderr",
     "output_type": "stream",
     "text": [
      "C:\\Users\\Allen\\AppData\\Roaming\\Python\\Python36\\site-packages\\ipykernel_launcher.py:35: DeprecationWarning: \n",
      ".ix is deprecated. Please use\n",
      ".loc for label based indexing or\n",
      ".iloc for positional indexing\n",
      "\n",
      "See the documentation here:\n",
      "http://pandas.pydata.org/pandas-docs/stable/indexing.html#ix-indexer-is-deprecated\n"
     ]
    }
   ],
   "source": [
    "import pandas as pd\n",
    "# Making data frame from a dictionary\n",
    "# that maps column names to their values\n",
    "df = pd.DataFrame({\n",
    "\t\"name\": [\"Bob\", \"Alex\", \"Janice\"],\n",
    "\t\"age\": [60, 25, 33]\n",
    "\t})\n",
    "# Reading a DataFrame from a file\n",
    "#other_df = pd.read_csv(\"myfile.csv\")\n",
    "# Making new columns from old ones\n",
    "# is really easy\n",
    "df[\"age_plus_one\"] = df[\"age\"] + 1\n",
    "df[\"age_times_two\"] = 2 * df[\"age\"]\n",
    "df[\"age_squared\"] = df[\"age\"] * df[\"age\"]\n",
    "df[\"over_30\"] = (df[\"age\"] > 30) # this col is bools\n",
    "# The columns have various built-in aggregate functions\n",
    "total_age = df[\"age\"].sum()\n",
    "median_age = df[\"age\"].quantile(0.5)\n",
    "# You can select several rows of the DataFrame\n",
    "# and make a new DataFrame out of them\n",
    "df_below50 = df[df[\"age\"] < 50]\n",
    "# Apply a custom function to a column\n",
    "df[\"age_squared\"] = df[\"age\"].apply(lambda x: x*x)\n",
    "\n",
    "df = pd.DataFrame({\n",
    "\t\"name\": [\"Bob\", \"Alex\", \"Jane\"],\n",
    "\t\"age\": [60, 25, 33]\n",
    "\t})\n",
    "print (df.index) # prints 0‐2, the line numbers\n",
    "# Create a DataFrame containing the same data,\n",
    "# but where name is the index\n",
    "df_w_name_as_ind = df.set_index(\"name\")\n",
    "print (df_w_name_as_ind.index) # prints their names\n",
    "# Get the row for Bob\n",
    "bobs_row = df_w_name_as_ind.ix[\"Bob\"]\n",
    "print (bobs_row[\"age\"]) # prints 60"
   ]
  },
  {
   "cell_type": "code",
   "execution_count": 18,
   "metadata": {},
   "outputs": [
    {
     "data": {
      "text/plain": [
       "0    1\n",
       "1    2\n",
       "2    3\n",
       "dtype: int64"
      ]
     },
     "execution_count": 18,
     "metadata": {},
     "output_type": "execute_result"
    }
   ],
   "source": [
    "import pandas as pd\n",
    "s = pd.Series([1,2,3]) # make Series from list\n",
    "# display the values in s\n",
    "s"
   ]
  },
  {
   "cell_type": "code",
   "execution_count": 19,
   "metadata": {},
   "outputs": [
    {
     "data": {
      "text/plain": [
       "0    3\n",
       "1    4\n",
       "2    5\n",
       "dtype: int64"
      ]
     },
     "execution_count": 19,
     "metadata": {},
     "output_type": "execute_result"
    }
   ],
   "source": [
    "s+2 # Add a number to each element of s"
   ]
  },
  {
   "cell_type": "code",
   "execution_count": 20,
   "metadata": {},
   "outputs": [
    {
     "data": {
      "text/plain": [
       "RangeIndex(start=0, stop=3, step=1)"
      ]
     },
     "execution_count": 20,
     "metadata": {},
     "output_type": "execute_result"
    }
   ],
   "source": [
    "s.index # you can access the index directly"
   ]
  },
  {
   "cell_type": "code",
   "execution_count": 21,
   "metadata": {},
   "outputs": [
    {
     "data": {
      "text/plain": [
       "0    5\n",
       "1    6\n",
       "2    8\n",
       "dtype: int64"
      ]
     },
     "execution_count": 21,
     "metadata": {},
     "output_type": "execute_result"
    }
   ],
   "source": [
    "# Adding two series will add corresponding elements to each other\n",
    "s + pd.Series([4,4,5])"
   ]
  },
  {
   "cell_type": "code",
   "execution_count": 22,
   "metadata": {},
   "outputs": [
    {
     "data": {
      "text/plain": [
       "pandas.core.series.Series"
      ]
     },
     "execution_count": 22,
     "metadata": {},
     "output_type": "execute_result"
    }
   ],
   "source": [
    "bobs_row = df_w_name_as_ind.ix[\"Bob\"]\n",
    "type(bobs_row)"
   ]
  },
  {
   "cell_type": "code",
   "execution_count": 23,
   "metadata": {},
   "outputs": [
    {
     "data": {
      "text/plain": [
       "age    60\n",
       "Name: Bob, dtype: int64"
      ]
     },
     "execution_count": 23,
     "metadata": {},
     "output_type": "execute_result"
    }
   ],
   "source": [
    "bobs_row"
   ]
  },
  {
   "cell_type": "code",
   "execution_count": 24,
   "metadata": {},
   "outputs": [],
   "source": [
    "df_w_age = pd.DataFrame({\n",
    "\"name\": [\"Tom\", \"Tyrell\", \"Claire\"],\n",
    "\"age\": [60, 25, 33]\n",
    "})"
   ]
  },
  {
   "cell_type": "code",
   "execution_count": 25,
   "metadata": {},
   "outputs": [],
   "source": [
    "df_w_height = pd.DataFrame({\n",
    "\"name\": [\"Tom\", \"Tyrell\", \"Claire\"],\n",
    "\"height\": [6.2, 4.0, 5.5]\n",
    "})"
   ]
  },
  {
   "cell_type": "code",
   "execution_count": 26,
   "metadata": {},
   "outputs": [
    {
     "name": "stdout",
     "output_type": "stream",
     "text": [
      "        age  height\n",
      "name               \n",
      "Tom      60     6.2\n",
      "Tyrell   25     4.0\n",
      "Claire   33     5.5\n"
     ]
    }
   ],
   "source": [
    "joined = df_w_age.set_index(\"name\").join(df_w_height.set_index(\"name\"))\n",
    "print (joined)"
   ]
  },
  {
   "cell_type": "code",
   "execution_count": 27,
   "metadata": {},
   "outputs": [
    {
     "name": "stdout",
     "output_type": "stream",
     "text": [
      "     name  age  height\n",
      "0     Tom   60     6.2\n",
      "1  Tyrell   25     4.0\n",
      "2  Claire   33     5.5\n"
     ]
    }
   ],
   "source": [
    "print (joined.reset_index())"
   ]
  },
  {
   "cell_type": "code",
   "execution_count": 28,
   "metadata": {},
   "outputs": [
    {
     "name": "stdout",
     "output_type": "stream",
     "text": [
      "         age  height\n",
      "gender              \n",
      "F       33.0     5.5\n",
      "M       42.5     5.1\n"
     ]
    }
   ],
   "source": [
    "df = pd.DataFrame({\n",
    "\"name\": [\"Tom\", \"Tyrell\", \"Claire\"],\n",
    "\"age\": [60, 25, 33],\n",
    "\"height\": [6.2, 4.0, 5.5],\n",
    "\"gender\": [\"M\", \"M\", \"F\"]\n",
    "})\n",
    "# use built-in aggregates\n",
    "print (df.groupby(\"gender\").mean())"
   ]
  },
  {
   "cell_type": "code",
   "execution_count": 29,
   "metadata": {},
   "outputs": [],
   "source": [
    "medians = df.groupby(\"gender\").quantile(0.5)\n",
    "# Use a custom aggregation function\n",
    "def agg(ddf):\n",
    "    return pd.Series({\n",
    "    \"name\": max(ddf[\"name\"]),\n",
    "    \"oldest\": max(ddf[\"age\"]),\n",
    "    \"mean_height\": ddf[\"height\"].mean()\n",
    "    })"
   ]
  },
  {
   "cell_type": "code",
   "execution_count": 30,
   "metadata": {},
   "outputs": [
    {
     "name": "stdout",
     "output_type": "stream",
     "text": [
      "        mean_height    name  oldest\n",
      "gender                             \n",
      "F               5.5  Claire      33\n",
      "M               5.1  Tyrell      60\n"
     ]
    }
   ],
   "source": [
    "print (df.groupby(\"gender\").apply(agg))"
   ]
  }
 ],
 "metadata": {
  "kernelspec": {
   "display_name": "Python 3",
   "language": "python",
   "name": "python3"
  },
  "language_info": {
   "codemirror_mode": {
    "name": "ipython",
    "version": 3
   },
   "file_extension": ".py",
   "mimetype": "text/x-python",
   "name": "python",
   "nbconvert_exporter": "python",
   "pygments_lexer": "ipython3",
   "version": "3.6.3"
  }
 },
 "nbformat": 4,
 "nbformat_minor": 2
}
